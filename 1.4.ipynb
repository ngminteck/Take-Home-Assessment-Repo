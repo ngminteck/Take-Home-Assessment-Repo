{
 "cells": [
  {
   "cell_type": "code",
   "execution_count": 12,
   "id": "9cdbf05f-1ce3-45be-921c-3fef4d1f0c47",
   "metadata": {},
   "outputs": [],
   "source": [
    "from seleniumbase import Driver\n",
    "import time\n",
    "from selenium.webdriver.support.ui import WebDriverWait\n",
    "from selenium.webdriver.common.by import By\n",
    "from selenium.webdriver.support import expected_conditions as EC\n",
    "import os\n",
    "import csv\n",
    "driver = Driver(uc=True)\n",
    "url = \"https://sprs.parl.gov.sg/search/#/home\"\n",
    "driver.maximize_window()\n",
    "driver.get(url)\n",
    "WebDriverWait(driver, 2).until(EC.element_to_be_clickable((By.CSS_SELECTOR, \"option[value='13: 13']\"))).click()\n",
    "WebDriverWait(driver, 1).until(EC.element_to_be_clickable((By.XPATH, \"//button[normalize-space()='Search']\"))).click()\n",
    "driver.switch_to.window(driver.window_handles[-1])\n",
    "file_path = \"13_Parliament_data.csv\"\n",
    "file_exists = os.path.exists(\"13_Parliament_data.csv\")\n",
    "if file_exists == False:\n",
    "    with open(file_path, 'w', newline='',encoding='utf-8') as file:\n",
    "        writer = csv.writer(file)\n",
    "        writer.writerow([\"Search Result No\", \"Title\", \"List of People\", \"Content\"])\n",
    "        file.close()\n",
    "  \n",
    "    "
   ]
  },
  {
   "cell_type": "code",
   "execution_count": 13,
   "id": "a097d76d-b493-4eba-8f24-53f79f9fe1d3",
   "metadata": {},
   "outputs": [],
   "source": [
    "def recurrsive_scrapping(driver, no, writer):\n",
    "    pre = \"tbody:nth-child(\"\n",
    "    no_post = \") tr:nth-child(1) td:nth-child(1)\"\n",
    "    link_post = \") tr:nth-child(1) td:nth-child(2) a:nth-child(1)\"\n",
    "    remainder = no % 20\n",
    "    if remainder == 0:\n",
    "        remainder = 20\n",
    "    tbody_no = str(remainder)\n",
    "    time.sleep(1) \n",
    "    search_result_no = driver.find_element(by = By.CSS_SELECTOR, value= pre + tbody_no + no_post).text\n",
    "    try:\n",
    "        WebDriverWait(driver, 3).until(EC.element_to_be_clickable((By.CSS_SELECTOR, pre + tbody_no + link_post))).click()\n",
    "        driver.switch_to.window(driver.window_handles[-1])\n",
    "        title = driver.find_element(by = By.XPATH, value= \"/html[1]/body[1]/app-root[1]/app-sprs3topic[1]/div[2]/div[1]/div[1]/div[1]/div[1]/div[1]/div[1]/table[1]/tr[7]/td[2]\").text\n",
    "        lop = driver.find_element(by = By.XPATH, value= \"/html[1]/body[1]/app-root[1]/app-sprs3topic[1]/div[2]/div[1]/div[1]/div[1]/div[1]/div[1]/div[1]/table[1]/tr[8]/td[2]\").text\n",
    "        contents = driver.find_element(by = By.XPATH, value= \"/html[1]/body[1]/app-root[1]/app-sprs3topic[1]/div[2]/div[1]/div[3]/div[1]/div[1]/div[1]/div[1]/div[1]/div[1]/div[1]/div[1]\")\n",
    "        loc = contents.find_elements(by = By.TAG_NAME, value= \"p\")\n",
    "        content = \"\"\n",
    "        for c in loc:\n",
    "            if not content:\n",
    "                content = \"{\" + c.text + \"}\"\n",
    "            else:\n",
    "                content = content + \"{\" + c.text + \"}\"\n",
    "        writer.writerow([search_result_no, title, lop, content])\n",
    "        time.sleep(5)            \n",
    "        driver.close()\n",
    "        driver.switch_to.window(driver.window_handles[1])\n",
    "    except:\n",
    "         writer.writerow([search_result_no, \"\", \"\", \"\"])\n",
    "         driver.switch_to.window(driver.window_handles[1])\n",
    "    if no < 5595:\n",
    "        if remainder == 20:\n",
    "            if no < 21:\n",
    "                WebDriverWait(driver, 2).until(EC.element_to_be_clickable((By.XPATH, \"//app-result//li[1]//a[1]\"))).click()\n",
    "            else:\n",
    "                WebDriverWait(driver, 2).until(EC.element_to_be_clickable((By.XPATH, \"//app-result//li[3]//a[1]\"))).click()\n",
    "        recurrsive_scrapping(driver, no + 1, writer)"
   ]
  },
  {
   "cell_type": "code",
   "execution_count": 14,
   "id": "336d6efa-c221-4796-910f-7192fa062270",
   "metadata": {},
   "outputs": [
    {
     "ename": "ElementClickInterceptedException",
     "evalue": "Message: element click intercepted: Element is not clickable at point (1241, 1731)\n  (Session info: chrome=126.0.6478.128)\nStacktrace:\n\tGetHandleVerifier [0x00007FF65B48EEB2+31554]\n\t(No symbol) [0x00007FF65B407EE9]\n\t(No symbol) [0x00007FF65B2C872A]\n\t(No symbol) [0x00007FF65B32012E]\n\t(No symbol) [0x00007FF65B31DAF2]\n\t(No symbol) [0x00007FF65B31AF8B]\n\t(No symbol) [0x00007FF65B31A156]\n\t(No symbol) [0x00007FF65B30C151]\n\t(No symbol) [0x00007FF65B33D02A]\n\t(No symbol) [0x00007FF65B30BA76]\n\t(No symbol) [0x00007FF65B33D240]\n\t(No symbol) [0x00007FF65B35C977]\n\t(No symbol) [0x00007FF65B33CDD3]\n\t(No symbol) [0x00007FF65B30A33B]\n\t(No symbol) [0x00007FF65B30AED1]\n\tGetHandleVerifier [0x00007FF65B798B2D+3217341]\n\tGetHandleVerifier [0x00007FF65B7E5AF3+3532675]\n\tGetHandleVerifier [0x00007FF65B7DB0F0+3489152]\n\tGetHandleVerifier [0x00007FF65B53E786+750614]\n\t(No symbol) [0x00007FF65B41376F]\n\t(No symbol) [0x00007FF65B40EB24]\n\t(No symbol) [0x00007FF65B40ECB2]\n\t(No symbol) [0x00007FF65B3FE17F]\n\tBaseThreadInitThunk [0x00007FFB389A257D+29]\n\tRtlUserThreadStart [0x00007FFB396CAF28+40]\n",
     "output_type": "error",
     "traceback": [
      "\u001b[1;31m---------------------------------------------------------------------------\u001b[0m",
      "\u001b[1;31mElementClickInterceptedException\u001b[0m          Traceback (most recent call last)",
      "Cell \u001b[1;32mIn[14], line 3\u001b[0m\n\u001b[0;32m      1\u001b[0m \u001b[38;5;28;01mwith\u001b[39;00m \u001b[38;5;28mopen\u001b[39m(file_path, \u001b[38;5;124m'\u001b[39m\u001b[38;5;124ma\u001b[39m\u001b[38;5;124m'\u001b[39m, newline\u001b[38;5;241m=\u001b[39m\u001b[38;5;124m'\u001b[39m\u001b[38;5;124m'\u001b[39m,encoding\u001b[38;5;241m=\u001b[39m\u001b[38;5;124m'\u001b[39m\u001b[38;5;124mutf-8\u001b[39m\u001b[38;5;124m'\u001b[39m) \u001b[38;5;28;01mas\u001b[39;00m file:\n\u001b[0;32m      2\u001b[0m        writer \u001b[38;5;241m=\u001b[39m csv\u001b[38;5;241m.\u001b[39mwriter(file)\n\u001b[1;32m----> 3\u001b[0m        recurrsive_scrapping(driver, \u001b[38;5;241m1\u001b[39m, writer)\n",
      "Cell \u001b[1;32mIn[13], line 37\u001b[0m, in \u001b[0;36mrecurrsive_scrapping\u001b[1;34m(driver, no, writer)\u001b[0m\n\u001b[0;32m     35\u001b[0m     \u001b[38;5;28;01melse\u001b[39;00m:\n\u001b[0;32m     36\u001b[0m         WebDriverWait(driver, \u001b[38;5;241m2\u001b[39m)\u001b[38;5;241m.\u001b[39muntil(EC\u001b[38;5;241m.\u001b[39melement_to_be_clickable((By\u001b[38;5;241m.\u001b[39mXPATH, \u001b[38;5;124m\"\u001b[39m\u001b[38;5;124m//app-result//li[3]//a[1]\u001b[39m\u001b[38;5;124m\"\u001b[39m)))\u001b[38;5;241m.\u001b[39mclick()\n\u001b[1;32m---> 37\u001b[0m recurrsive_scrapping(driver, no \u001b[38;5;241m+\u001b[39m \u001b[38;5;241m1\u001b[39m, writer)\n",
      "Cell \u001b[1;32mIn[13], line 37\u001b[0m, in \u001b[0;36mrecurrsive_scrapping\u001b[1;34m(driver, no, writer)\u001b[0m\n\u001b[0;32m     35\u001b[0m     \u001b[38;5;28;01melse\u001b[39;00m:\n\u001b[0;32m     36\u001b[0m         WebDriverWait(driver, \u001b[38;5;241m2\u001b[39m)\u001b[38;5;241m.\u001b[39muntil(EC\u001b[38;5;241m.\u001b[39melement_to_be_clickable((By\u001b[38;5;241m.\u001b[39mXPATH, \u001b[38;5;124m\"\u001b[39m\u001b[38;5;124m//app-result//li[3]//a[1]\u001b[39m\u001b[38;5;124m\"\u001b[39m)))\u001b[38;5;241m.\u001b[39mclick()\n\u001b[1;32m---> 37\u001b[0m recurrsive_scrapping(driver, no \u001b[38;5;241m+\u001b[39m \u001b[38;5;241m1\u001b[39m, writer)\n",
      "    \u001b[1;31m[... skipping similar frames: recurrsive_scrapping at line 37 (16 times)]\u001b[0m\n",
      "Cell \u001b[1;32mIn[13], line 37\u001b[0m, in \u001b[0;36mrecurrsive_scrapping\u001b[1;34m(driver, no, writer)\u001b[0m\n\u001b[0;32m     35\u001b[0m     \u001b[38;5;28;01melse\u001b[39;00m:\n\u001b[0;32m     36\u001b[0m         WebDriverWait(driver, \u001b[38;5;241m2\u001b[39m)\u001b[38;5;241m.\u001b[39muntil(EC\u001b[38;5;241m.\u001b[39melement_to_be_clickable((By\u001b[38;5;241m.\u001b[39mXPATH, \u001b[38;5;124m\"\u001b[39m\u001b[38;5;124m//app-result//li[3]//a[1]\u001b[39m\u001b[38;5;124m\"\u001b[39m)))\u001b[38;5;241m.\u001b[39mclick()\n\u001b[1;32m---> 37\u001b[0m recurrsive_scrapping(driver, no \u001b[38;5;241m+\u001b[39m \u001b[38;5;241m1\u001b[39m, writer)\n",
      "Cell \u001b[1;32mIn[13], line 34\u001b[0m, in \u001b[0;36mrecurrsive_scrapping\u001b[1;34m(driver, no, writer)\u001b[0m\n\u001b[0;32m     32\u001b[0m \u001b[38;5;28;01mif\u001b[39;00m remainder \u001b[38;5;241m==\u001b[39m \u001b[38;5;241m20\u001b[39m:\n\u001b[0;32m     33\u001b[0m     \u001b[38;5;28;01mif\u001b[39;00m no \u001b[38;5;241m<\u001b[39m \u001b[38;5;241m21\u001b[39m:\n\u001b[1;32m---> 34\u001b[0m         WebDriverWait(driver, \u001b[38;5;241m2\u001b[39m)\u001b[38;5;241m.\u001b[39muntil(EC\u001b[38;5;241m.\u001b[39melement_to_be_clickable((By\u001b[38;5;241m.\u001b[39mXPATH, \u001b[38;5;124m\"\u001b[39m\u001b[38;5;124m//app-result//li[1]//a[1]\u001b[39m\u001b[38;5;124m\"\u001b[39m)))\u001b[38;5;241m.\u001b[39mclick()\n\u001b[0;32m     35\u001b[0m     \u001b[38;5;28;01melse\u001b[39;00m:\n\u001b[0;32m     36\u001b[0m         WebDriverWait(driver, \u001b[38;5;241m2\u001b[39m)\u001b[38;5;241m.\u001b[39muntil(EC\u001b[38;5;241m.\u001b[39melement_to_be_clickable((By\u001b[38;5;241m.\u001b[39mXPATH, \u001b[38;5;124m\"\u001b[39m\u001b[38;5;124m//app-result//li[3]//a[1]\u001b[39m\u001b[38;5;124m\"\u001b[39m)))\u001b[38;5;241m.\u001b[39mclick()\n",
      "File \u001b[1;32m~\\anaconda\\Lib\\site-packages\\selenium\\webdriver\\remote\\webelement.py:94\u001b[0m, in \u001b[0;36mWebElement.click\u001b[1;34m(self)\u001b[0m\n\u001b[0;32m     92\u001b[0m \u001b[38;5;28;01mdef\u001b[39;00m \u001b[38;5;21mclick\u001b[39m(\u001b[38;5;28mself\u001b[39m) \u001b[38;5;241m-\u001b[39m\u001b[38;5;241m>\u001b[39m \u001b[38;5;28;01mNone\u001b[39;00m:\n\u001b[0;32m     93\u001b[0m \u001b[38;5;250m    \u001b[39m\u001b[38;5;124;03m\"\"\"Clicks the element.\"\"\"\u001b[39;00m\n\u001b[1;32m---> 94\u001b[0m     \u001b[38;5;28mself\u001b[39m\u001b[38;5;241m.\u001b[39m_execute(Command\u001b[38;5;241m.\u001b[39mCLICK_ELEMENT)\n",
      "File \u001b[1;32m~\\anaconda\\Lib\\site-packages\\selenium\\webdriver\\remote\\webelement.py:395\u001b[0m, in \u001b[0;36mWebElement._execute\u001b[1;34m(self, command, params)\u001b[0m\n\u001b[0;32m    393\u001b[0m     params \u001b[38;5;241m=\u001b[39m {}\n\u001b[0;32m    394\u001b[0m params[\u001b[38;5;124m\"\u001b[39m\u001b[38;5;124mid\u001b[39m\u001b[38;5;124m\"\u001b[39m] \u001b[38;5;241m=\u001b[39m \u001b[38;5;28mself\u001b[39m\u001b[38;5;241m.\u001b[39m_id\n\u001b[1;32m--> 395\u001b[0m \u001b[38;5;28;01mreturn\u001b[39;00m \u001b[38;5;28mself\u001b[39m\u001b[38;5;241m.\u001b[39m_parent\u001b[38;5;241m.\u001b[39mexecute(command, params)\n",
      "File \u001b[1;32m~\\anaconda\\Lib\\site-packages\\selenium\\webdriver\\remote\\webdriver.py:354\u001b[0m, in \u001b[0;36mWebDriver.execute\u001b[1;34m(self, driver_command, params)\u001b[0m\n\u001b[0;32m    352\u001b[0m response \u001b[38;5;241m=\u001b[39m \u001b[38;5;28mself\u001b[39m\u001b[38;5;241m.\u001b[39mcommand_executor\u001b[38;5;241m.\u001b[39mexecute(driver_command, params)\n\u001b[0;32m    353\u001b[0m \u001b[38;5;28;01mif\u001b[39;00m response:\n\u001b[1;32m--> 354\u001b[0m     \u001b[38;5;28mself\u001b[39m\u001b[38;5;241m.\u001b[39merror_handler\u001b[38;5;241m.\u001b[39mcheck_response(response)\n\u001b[0;32m    355\u001b[0m     response[\u001b[38;5;124m\"\u001b[39m\u001b[38;5;124mvalue\u001b[39m\u001b[38;5;124m\"\u001b[39m] \u001b[38;5;241m=\u001b[39m \u001b[38;5;28mself\u001b[39m\u001b[38;5;241m.\u001b[39m_unwrap_value(response\u001b[38;5;241m.\u001b[39mget(\u001b[38;5;124m\"\u001b[39m\u001b[38;5;124mvalue\u001b[39m\u001b[38;5;124m\"\u001b[39m, \u001b[38;5;28;01mNone\u001b[39;00m))\n\u001b[0;32m    356\u001b[0m     \u001b[38;5;28;01mreturn\u001b[39;00m response\n",
      "File \u001b[1;32m~\\anaconda\\Lib\\site-packages\\selenium\\webdriver\\remote\\errorhandler.py:229\u001b[0m, in \u001b[0;36mErrorHandler.check_response\u001b[1;34m(self, response)\u001b[0m\n\u001b[0;32m    227\u001b[0m         alert_text \u001b[38;5;241m=\u001b[39m value[\u001b[38;5;124m\"\u001b[39m\u001b[38;5;124malert\u001b[39m\u001b[38;5;124m\"\u001b[39m]\u001b[38;5;241m.\u001b[39mget(\u001b[38;5;124m\"\u001b[39m\u001b[38;5;124mtext\u001b[39m\u001b[38;5;124m\"\u001b[39m)\n\u001b[0;32m    228\u001b[0m     \u001b[38;5;28;01mraise\u001b[39;00m exception_class(message, screen, stacktrace, alert_text)  \u001b[38;5;66;03m# type: ignore[call-arg]  # mypy is not smart enough here\u001b[39;00m\n\u001b[1;32m--> 229\u001b[0m \u001b[38;5;28;01mraise\u001b[39;00m exception_class(message, screen, stacktrace)\n",
      "\u001b[1;31mElementClickInterceptedException\u001b[0m: Message: element click intercepted: Element is not clickable at point (1241, 1731)\n  (Session info: chrome=126.0.6478.128)\nStacktrace:\n\tGetHandleVerifier [0x00007FF65B48EEB2+31554]\n\t(No symbol) [0x00007FF65B407EE9]\n\t(No symbol) [0x00007FF65B2C872A]\n\t(No symbol) [0x00007FF65B32012E]\n\t(No symbol) [0x00007FF65B31DAF2]\n\t(No symbol) [0x00007FF65B31AF8B]\n\t(No symbol) [0x00007FF65B31A156]\n\t(No symbol) [0x00007FF65B30C151]\n\t(No symbol) [0x00007FF65B33D02A]\n\t(No symbol) [0x00007FF65B30BA76]\n\t(No symbol) [0x00007FF65B33D240]\n\t(No symbol) [0x00007FF65B35C977]\n\t(No symbol) [0x00007FF65B33CDD3]\n\t(No symbol) [0x00007FF65B30A33B]\n\t(No symbol) [0x00007FF65B30AED1]\n\tGetHandleVerifier [0x00007FF65B798B2D+3217341]\n\tGetHandleVerifier [0x00007FF65B7E5AF3+3532675]\n\tGetHandleVerifier [0x00007FF65B7DB0F0+3489152]\n\tGetHandleVerifier [0x00007FF65B53E786+750614]\n\t(No symbol) [0x00007FF65B41376F]\n\t(No symbol) [0x00007FF65B40EB24]\n\t(No symbol) [0x00007FF65B40ECB2]\n\t(No symbol) [0x00007FF65B3FE17F]\n\tBaseThreadInitThunk [0x00007FFB389A257D+29]\n\tRtlUserThreadStart [0x00007FFB396CAF28+40]\n"
     ]
    }
   ],
   "source": [
    " with open(file_path, 'a', newline='',encoding='utf-8') as file:\n",
    "        writer = csv.writer(file)\n",
    "        recurrsive_scrapping(driver, 1, writer)"
   ]
  },
  {
   "cell_type": "code",
   "execution_count": null,
   "id": "95589e26-a496-4e1e-900b-d7cd4bdb4e78",
   "metadata": {},
   "outputs": [],
   "source": []
  }
 ],
 "metadata": {
  "kernelspec": {
   "display_name": "Python 3 (ipykernel)",
   "language": "python",
   "name": "python3"
  },
  "language_info": {
   "codemirror_mode": {
    "name": "ipython",
    "version": 3
   },
   "file_extension": ".py",
   "mimetype": "text/x-python",
   "name": "python",
   "nbconvert_exporter": "python",
   "pygments_lexer": "ipython3",
   "version": "3.12.3"
  }
 },
 "nbformat": 4,
 "nbformat_minor": 5
}
