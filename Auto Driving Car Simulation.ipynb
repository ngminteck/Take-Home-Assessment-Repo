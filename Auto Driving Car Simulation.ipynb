{
 "cells": [
  {
   "cell_type": "markdown",
   "id": "4afe7464-71ab-408a-803e-d5036479adbd",
   "metadata": {},
   "source": [
    "### 1. Install pytest and ipytest (not using don't need install)"
   ]
  },
  {
   "cell_type": "code",
   "execution_count": 259,
   "id": "073b2b2e-f1b1-45a2-b345-41c4e8ecc6ad",
   "metadata": {
    "scrolled": true
   },
   "outputs": [],
   "source": [
    "#!pip install pytest ipytest"
   ]
  },
  {
   "cell_type": "markdown",
   "id": "e3993363-0457-43a4-9cd2-b210ba494dcc",
   "metadata": {},
   "source": [
    "### 2. Import"
   ]
  },
  {
   "cell_type": "code",
   "execution_count": 258,
   "id": "9d60bb6b-6410-40df-9b83-833bd156f3f4",
   "metadata": {},
   "outputs": [],
   "source": [
    "import re\n",
    "#import asyncio\n",
    "#import concurrent.futures\n",
    "#import pytest\n",
    "#import ipytest"
   ]
  },
  {
   "cell_type": "markdown",
   "id": "a98e31fd-5dbc-46b7-949f-ec3825f40d62",
   "metadata": {},
   "source": [
    "### 3. Car object"
   ]
  },
  {
   "cell_type": "code",
   "execution_count": 175,
   "id": "59664422-5c11-4dc7-b7bc-0a11d08c334a",
   "metadata": {},
   "outputs": [],
   "source": [
    "class Car:\n",
    "    def __init__(self,x,y,dir,commands):\n",
    "        self.x = x\n",
    "        self.y = y\n",
    "        self.dir = dir\n",
    "        self.commands = commands\n",
    "        \n",
    "    def __str__(self):\n",
    "        if self.dir == 0:\n",
    "            d = \"N\"\n",
    "        elif self.dir == 1:\n",
    "            d = \"E\"\n",
    "        elif self.dir == 2:\n",
    "            d = \"S\"\n",
    "        else:\n",
    "            d = \"W\"\n",
    "        return \"({},{}) {}, {}\".format(self.x, self.y,d,self.commands)\n",
    "        \n",
    "    def PrintWithoutCommands(self):\n",
    "        if self.dir == 0:\n",
    "            d = \"N\"\n",
    "        elif self.dir == 1:\n",
    "            d = \"E\"\n",
    "        elif self.dir == 2:\n",
    "            d = \"S\"\n",
    "        else:\n",
    "            d = \"W\"\n",
    "        return \"({},{}) {}\".format(self.x, self.y,d)\n",
    "\n",
    "    def GetX(self):\n",
    "        return self.x\n",
    "        \n",
    "    def GetY(self):\n",
    "        return self.y\n",
    "\n",
    "    def GetDir(self):\n",
    "        return self.dir\n",
    "        \n",
    "    def RotateLeft(self):\n",
    "        self.dir -= 1\n",
    "        if self.dir < 0:\n",
    "            self.dir = 3\n",
    "            \n",
    "    def RotateRight(self):\n",
    "        self.dir += 1\n",
    "        if self.dir > 3:\n",
    "            self.dir = 0\n",
    "\n",
    "    def SetPosition(self, x , y):\n",
    "        self.x = x\n",
    "        self.y = y\n",
    "\n",
    "    def GetCommandsLen(self):\n",
    "        return len(self.commands)\n",
    "            \n",
    "    def GetCommand(self, index):\n",
    "        if index > len(self.commands) - 1 :\n",
    "            return \"\";\n",
    "        else:\n",
    "            return self.commands[index];\n"
   ]
  },
  {
   "cell_type": "markdown",
   "id": "0787596a-babf-42b9-86f0-93bb9f3a96e8",
   "metadata": {},
   "source": [
    "### 4. Session object"
   ]
  },
  {
   "cell_type": "code",
   "execution_count": 176,
   "id": "aad92f21-aa56-4e6a-b133-13a7fe0c749a",
   "metadata": {},
   "outputs": [],
   "source": [
    "class Session:\n",
    "    def __init__(self):\n",
    "        self.field_x = 0\n",
    "        self.field_y = 0\n",
    "        self.field = [ [ \"\" for i in range(self.field_x) ] for j in range(self.field_y) ]\n",
    "        # car dictionary list\n",
    "        #{ \"name\":car object}\n",
    "        self.car_dict_list = {}\n",
    "        # collided field dictionary list\n",
    "        #{ \"(x,y)\":\"A,B,C\"} \n",
    "        self.collided_info_dict_list = {}\n",
    "\n",
    "    def ConstructEmptyField(self):\n",
    "        self.field = [ [ \"\" for i in range(self.field_x) ] for j in range(self.field_y) ]\n",
    "        \n",
    "    def FieldConstruct(self):\n",
    "        while True:\n",
    "            print(\"Please enter the width and height of the simulation field in x y format:\")\n",
    "            x = 0\n",
    "            y = 0\n",
    "            try:\n",
    "                x,y = map(int,input().split())\n",
    "            except ValueError:\n",
    "                print(\"Invalid input.\")\n",
    "                continue\n",
    "            if x > 0 and y > 0:\n",
    "                self.field_x = x\n",
    "                self.field_y = y\n",
    "                self.ConstructEmptyField()\n",
    "                print(\"you have created a field of\",self.field_x,\"x\",self.field_y,\".\")\n",
    "                break\n",
    "            print(\"The width and height must be greater than 0.\")\n",
    "\n",
    "    # use for testing without prompt\n",
    "    def test_FieldConstruct(self,x,y):\n",
    "        self.field_x = x\n",
    "        self.field_y = y\n",
    "        self.ConstructEmptyField()\n",
    "\n",
    "    def AddCar(self):\n",
    "        # asking user the name of the car, which is also key in the dictionary\n",
    "        while True:\n",
    "            print(\"Please enter the name of the car:\")\n",
    "            name = input()\n",
    "            pattern = \"^[A-Za-z0-9_-]*$\"\n",
    "            if re.match(pattern, name) == False:\n",
    "                print(\"name can only contains letters, numbers, underscores and dashes.\")\n",
    "                continue\n",
    "            if any(name in d for d in self.car_dict_list):\n",
    "                print(name, \"existed in the list of car.\")\n",
    "            else:\n",
    "                break\n",
    "        # asking user the init position and the direction\n",
    "        while True:\n",
    "            print(\"Please enter initial position of car\",name,\"in x y Direction format:\")\n",
    "            input_list = input().split()\n",
    "            if len(input_list) != 3:\n",
    "                print(\"Invaild number of input.\")\n",
    "                continue\n",
    "            try:\n",
    "                x = int(input_list[0])\n",
    "                y = int(input_list[1])\n",
    "            except ValueError:\n",
    "                print(\"x and y must be an integer.\") \n",
    "                continue\n",
    "            if x < 0 or x > self.field_x - 1 :\n",
    "                print(x,\" is out of bound.\")\n",
    "                continue\n",
    "            if y < 0 or x > self.field_y - 1 :\n",
    "                print(y,\" is out of bound.\")\n",
    "                continue\n",
    "            if self.field[x][y] != \"\":\n",
    "                print(\"Field[\",x,\"][\",y,\"] already occupied with car:\", self.field[x][y],\".\")\n",
    "                continue\n",
    "            if input_list[2] == \"N\":\n",
    "                d = 0 \n",
    "                break\n",
    "            elif input_list[2] == \"E\":\n",
    "                d = 1\n",
    "                break\n",
    "            elif input_list[2] == \"S\" :\n",
    "                d = 2\n",
    "                break\n",
    "            elif input_list[2] == \"W\" :\n",
    "                d = 3\n",
    "                break\n",
    "            print(\"Invalid letter for direction input.\")\n",
    "        # Asking the user for the commands \n",
    "        while True:\n",
    "            print(\"Please enter the commands for car\",name,\":\")\n",
    "            commands_list = input()\n",
    "            if any(c not in 'FLR' for c in commands_list):\n",
    "                print(\"Commands contain invalid characters\")\n",
    "                continue\n",
    "            break\n",
    "        # Add new create car into a list of dictionary and print the list\n",
    "        self.car_dict_list[name]= Car(x,y,d,commands_list)\n",
    "        self.field[x][y] = name\n",
    "        self.DisplayCarDictList()\n",
    "\n",
    "    def DisplayCarDictList(self):\n",
    "        print(\"Your current list of cars are:\")\n",
    "        for key, value in self.car_dict_list.items():  \n",
    "            print(key,\",\", value)\n",
    "\n",
    "    #use for testing without prompt\n",
    "    def test_AddCar(self,name,x,y,input_d,commands_list):\n",
    "        d = 0\n",
    "        if input_d == \"N\":\n",
    "            d = 0 \n",
    "        elif input_d == \"E\":\n",
    "            d = 1\n",
    "        elif input_d == \"S\" :\n",
    "            d = 2\n",
    "        elif input_d == \"W\" :\n",
    "            d = 3\n",
    "        else:\n",
    "            print(\"Invalid direction input\")\n",
    "            return\n",
    "        self.car_dict_list[name]= Car(x,y,d,commands_list)\n",
    "\n",
    "    def CheckCollision(self,x,y,key):\n",
    "        if self.field[x][y]  == \"\":\n",
    "            self.field[x][y] = key\n",
    "            return False\n",
    "        \n",
    "        # \"(x,y)\" as collided_info_dict_list key\n",
    "        collided_key = \"(\"+ str(x) + \",\" + str(y) + \")\" \n",
    "        if any(collided_key in d for d in self.collided_info_dict_list):\n",
    "            # append with the new car into the value\n",
    "            self.collided_info_dict_list[collided_key]= self.collided_info_dict_list[collided_key]+\",\"+key\n",
    "        else:\n",
    "            # Add both cars into the value\n",
    "            self.collided_info_dict_list[collided_key] = self.field[x][y] + \",\" + key\n",
    "        return True\n",
    "\n",
    "    def ExecuteCommand(self,key,value,step):\n",
    "        # command possible give empty string \"\", mean the command already finish\n",
    "        command = value.GetCommand(step)\n",
    "        x = value.GetX()\n",
    "        y = value.GetY()\n",
    "        if command == \"L\":\n",
    "            value.RotateLeft()\n",
    "        elif command == \"R\":\n",
    "            value.RotateRight()\n",
    "        elif command == \"F\":\n",
    "            d = value.GetDir()\n",
    "            if d == 0:\n",
    "                y += 1\n",
    "            elif d == 1:\n",
    "                x += 1\n",
    "            elif d == 2:\n",
    "                y -= 1\n",
    "            else:\n",
    "                x -= 1\n",
    "            # not move as out-of-field boundary\n",
    "            if x < 0 or y < 0 or x > self.field_x - 1 or y > self.field_y - 1:\n",
    "                x = value.GetX()\n",
    "                y = value.GetY()\n",
    "            value.SetPosition(x,y)\n",
    "            \n",
    "        return self.CheckCollision(x,y,key)\n",
    "        \n",
    "       \n",
    "                \n",
    "    def PrintCollidedMessage(self,step):\n",
    "        for key, value in self.collided_info_dict_list.items():\n",
    "            cars = value.split(\",\")\n",
    "            for i in range(len(cars)):\n",
    "                exculded_ownself = \"\"\n",
    "                if i == 0:\n",
    "                    exculded_ownself = value.replace(cars[i] + \",\",\"\")\n",
    "                else:\n",
    "                    exculded_ownself = value.replace(\",\" + cars[i],\"\")\n",
    "                print(\"-\", cars[i],\", collides with\",exculded_ownself, \"at\",key,\"at step\",str(step))\n",
    "              \n",
    "                            \n",
    "    def RunSimulation(self):\n",
    "        longest_commands = 0\n",
    "        collided = False\n",
    "        step = 0\n",
    "        # The idea is every step needs to empty the field and then mark the position again\n",
    "        self.ConstructEmptyField()\n",
    "        # First loop check which has the longest commands\n",
    "        # This possibly does it with concurrent\n",
    "        for key, value in self.car_dict_list.items():\n",
    "            longest_commands = max(longest_commands,value.GetCommandsLen()-1)  \n",
    "            collided = self.ExecuteCommand(key,value,step) or collided\n",
    "       \n",
    "        while collided == False and step < longest_commands:\n",
    "            step = step + 1\n",
    "            self.ConstructEmptyField()\n",
    "            # This possibly does it with concurrent\n",
    "            for key, value in self.car_dict_list.items():\n",
    "                collided = self.ExecuteCommand(key,value,step) or collided\n",
    "                    \n",
    "        #last checking is it collided or successfully executed all with not collided     \n",
    "        print(\"After Simulation the result is:\")\n",
    "        if collided == True:\n",
    "           self.PrintCollidedMessage(step + 1)\n",
    "        else:\n",
    "            for key, value in self.car_dict_list.items():\n",
    "                print(\"-\",key,\",\",value.PrintWithoutCommands())\n",
    "            "
   ]
  },
  {
   "cell_type": "markdown",
   "id": "18ba1657-c093-409c-a864-d75f01f47ee5",
   "metadata": {},
   "source": [
    "### 5. Test case"
   ]
  },
  {
   "cell_type": "code",
   "execution_count": 265,
   "id": "e7fba349-4e4c-4df3-aa10-171c461a10ec",
   "metadata": {},
   "outputs": [],
   "source": [
    "# test_AddCar(string: name, int:x, int:y, string: direction(only accept \"N\", \"E\",\"S\",\"W\"), string: command)\n",
    "# There is no type of valid check, except direction, make sure to put correct type of input\n",
    "# Example\n",
    "# test_sim.test_AddCar(\"A\",0,0, \"N\", \"LL\")\n",
    "#ipytest.autoconfig()\n",
    "\n",
    "def test_RotateLeft():\n",
    "    test_sim = Session()\n",
    "    test_sim.test_FieldConstruct(10,10)\n",
    "    test_sim.test_AddCar(\"A\",0,0,\"N\",\"LL\")\n",
    "    test_sim.test_AddCar(\"B\",1,1,\"W\",\"LLLL\")\n",
    "    test_sim.DisplayCarDictList()\n",
    "    test_sim.RunSimulation()\n",
    "\n",
    "def test_RotateRight():\n",
    "    test_sim = Session()\n",
    "    test_sim.test_FieldConstruct(10,10)\n",
    "    test_sim.test_AddCar(\"A\",0,0,\"N\",\"RRR\")\n",
    "    test_sim.test_AddCar(\"B\",1,1,\"E\",\"RRRR\")\n",
    "    test_sim.DisplayCarDictList()\n",
    "    test_sim.RunSimulation()\n",
    "    \n",
    "def test_OutOfBound():\n",
    "    test_sim = Session()\n",
    "    test_sim.test_FieldConstruct(1,1)\n",
    "    test_sim.test_AddCar(\"A\",0,0,\"N\",\"F\")\n",
    "    test_sim.DisplayCarDictList()\n",
    "    test_sim.RunSimulation()\n",
    "   \n",
    "def test_NoCommand():\n",
    "    test_sim = Session()\n",
    "    test_sim.test_FieldConstruct(1,1)\n",
    "    test_sim.test_AddCar(\"A\",0,0,\"N\",\"\")\n",
    "    test_sim.DisplayCarDictList()\n",
    "    test_sim.RunSimulation()\n",
    "    # can't solve caofd not defined problem\n",
    "    #out, err = capfd.readouterr()\n",
    "    #expected_output = (\n",
    "    #    \"Your current list of cars are:\\n\"\n",
    "    #    \"A , (0,0) N, F\\n\"\n",
    "    #   \"After Simulation the result is:\\n\"\n",
    "    #   \"- A , (0,0) N\"\n",
    "    #)\n",
    "    #assert out.strip() == expected_output.strip()\n",
    "\n",
    "\n",
    "def test_NoCollided():\n",
    "    test_sim = Session()\n",
    "    test_sim.test_FieldConstruct(10,10)\n",
    "    test_sim.test_AddCar(\"A\",0,0,\"N\",\"FFF\")\n",
    "    test_sim.test_AddCar(\"B\",1,1,\"N\",\"FFF\")\n",
    "    test_sim.DisplayCarDictList()\n",
    "    test_sim.RunSimulation()\n",
    "\n",
    "def test_Collided():\n",
    "    test_sim = Session()\n",
    "    test_sim.test_FieldConstruct(10,10)\n",
    "    test_sim.test_AddCar(\"A\",0,0,\"N\",\"FFRFF\")\n",
    "    test_sim.test_AddCar(\"B\",2,2,\"S\",\"LLL\")\n",
    "    test_sim.DisplayCarDictList()\n",
    "    test_sim.RunSimulation()\n",
    "\n",
    "def test_MultipleCollided1():\n",
    "    test_sim = Session()\n",
    "    test_sim.test_FieldConstruct(10,10)\n",
    "    test_sim.test_AddCar(\"A\",1,0,\"N\",\"F\")\n",
    "    test_sim.test_AddCar(\"B\",1,1,\"N\",\"L\")\n",
    "    test_sim.test_AddCar(\"C\",1,2,\"S\",\"F\")\n",
    "    test_sim.DisplayCarDictList()\n",
    "    test_sim.RunSimulation()\n",
    "\n",
    "def test_MultipleCollided2():\n",
    "    test_sim = Session()\n",
    "    test_sim.test_FieldConstruct(10,10)\n",
    "    test_sim.test_AddCar(\"A\",1,0,\"N\",\"F\")\n",
    "    test_sim.test_AddCar(\"B\",1,1,\"N\",\"L\")\n",
    "    test_sim.test_AddCar(\"C\",1,2,\"S\",\"F\")\n",
    "    test_sim.test_AddCar(\"D\",9,9,\"N\",\"R\")\n",
    "    test_sim.test_AddCar(\"E\",9,8,\"N\",\"F\")\n",
    "    test_sim.DisplayCarDictList()\n",
    "    test_sim.RunSimulation()\n",
    "\n",
    "def test_Sample1():\n",
    "    test_sim = Session()\n",
    "    test_sim.test_FieldConstruct(10,10)\n",
    "    test_sim.test_AddCar(\"A\",1,2,\"N\",\"FFRFFFFRRL\")\n",
    "    test_sim.DisplayCarDictList()\n",
    "    test_sim.RunSimulation()\n",
    "\n",
    "def test_Sample2():\n",
    "    test_sim = Session()\n",
    "    test_sim.test_FieldConstruct(10,10)\n",
    "    test_sim.test_AddCar(\"A\",1,2,\"N\",\"FFRFFFFRRL\")\n",
    "    test_sim.test_AddCar(\"B\",7,8,\"W\",\"FFLFFFFFFF\")\n",
    "    test_sim.DisplayCarDictList()\n",
    "    test_sim.RunSimulation()\n"
   ]
  },
  {
   "cell_type": "code",
   "execution_count": 261,
   "id": "8cbf0771-91f0-40c7-8665-b7c4505d414c",
   "metadata": {},
   "outputs": [
    {
     "name": "stdout",
     "output_type": "stream",
     "text": [
      "Your current list of cars are:\n",
      "A , (0,0) N, LL\n",
      "B , (1,1) W, LLLL\n",
      "After Simulation the result is:\n",
      "- A , (0,0) S\n",
      "- B , (1,1) W\n"
     ]
    }
   ],
   "source": [
    "test_RotateLeft()"
   ]
  },
  {
   "cell_type": "code",
   "execution_count": 262,
   "id": "5463544b-1824-4eca-943d-65e97dd70169",
   "metadata": {},
   "outputs": [
    {
     "name": "stdout",
     "output_type": "stream",
     "text": [
      "Your current list of cars are:\n",
      "A , (0,0) N, RRR\n",
      "B , (1,1) E, RRRR\n",
      "After Simulation the result is:\n",
      "- A , (0,0) W\n",
      "- B , (1,1) E\n"
     ]
    }
   ],
   "source": [
    "test_RotateRight()"
   ]
  },
  {
   "cell_type": "code",
   "execution_count": 263,
   "id": "ec87e806-2dee-4c91-bb77-a0d0a91f1370",
   "metadata": {},
   "outputs": [
    {
     "name": "stdout",
     "output_type": "stream",
     "text": [
      "Your current list of cars are:\n",
      "A , (0,0) N, F\n",
      "After Simulation the result is:\n",
      "- A , (0,0) N\n"
     ]
    }
   ],
   "source": [
    "test_OutOfBound()"
   ]
  },
  {
   "cell_type": "code",
   "execution_count": 231,
   "id": "05cbafe2-ec1c-4cad-80c3-886c7c5b5399",
   "metadata": {},
   "outputs": [
    {
     "name": "stdout",
     "output_type": "stream",
     "text": [
      "Your current list of cars are:\n",
      "A , (0,0) N, \n",
      "After Simulation the result is:\n",
      "- A , (0,0) N\n"
     ]
    }
   ],
   "source": [
    "test_NoCommand()"
   ]
  },
  {
   "cell_type": "code",
   "execution_count": 219,
   "id": "36362f4a-37f5-460d-bafc-889500c1347e",
   "metadata": {},
   "outputs": [
    {
     "name": "stdout",
     "output_type": "stream",
     "text": [
      "Your current list of cars are:\n",
      "A , (0,0) N, FFF\n",
      "B , (1,1) N, FFF\n",
      "After Simulation the result is:\n",
      "- A , (0,3) N\n",
      "- B , (1,4) N\n"
     ]
    }
   ],
   "source": [
    "test_NoCollided()"
   ]
  },
  {
   "cell_type": "code",
   "execution_count": 220,
   "id": "4b3b5df7-e61b-4f26-a834-c77660f18c97",
   "metadata": {},
   "outputs": [
    {
     "name": "stdout",
     "output_type": "stream",
     "text": [
      "Your current list of cars are:\n",
      "A , (0,0) N, FFRFF\n",
      "B , (2,2) S, LLL\n",
      "After Simulation the result is:\n",
      "- A , collides with B at (2,2) at step 5\n",
      "- B , collides with A at (2,2) at step 5\n"
     ]
    }
   ],
   "source": [
    "test_Collided()"
   ]
  },
  {
   "cell_type": "code",
   "execution_count": 221,
   "id": "c669833f-fa69-4a48-ba1d-fcb3240b55ed",
   "metadata": {},
   "outputs": [
    {
     "name": "stdout",
     "output_type": "stream",
     "text": [
      "Your current list of cars are:\n",
      "A , (1,0) N, F\n",
      "B , (1,1) N, L\n",
      "C , (1,2) S, F\n",
      "After Simulation the result is:\n",
      "- A , collides with B,C at (1,1) at step 1\n",
      "- B , collides with A,C at (1,1) at step 1\n",
      "- C , collides with A,B at (1,1) at step 1\n"
     ]
    }
   ],
   "source": [
    "test_MultipleCollided1()"
   ]
  },
  {
   "cell_type": "code",
   "execution_count": 222,
   "id": "a3b95cae-96c7-440c-afc8-d89668e17b23",
   "metadata": {},
   "outputs": [
    {
     "name": "stdout",
     "output_type": "stream",
     "text": [
      "Your current list of cars are:\n",
      "A , (1,0) N, F\n",
      "B , (1,1) N, L\n",
      "C , (1,2) S, F\n",
      "D , (9,9) N, R\n",
      "E , (9,8) N, F\n",
      "After Simulation the result is:\n",
      "- A , collides with B,C at (1,1) at step 1\n",
      "- B , collides with A,C at (1,1) at step 1\n",
      "- C , collides with A,B at (1,1) at step 1\n",
      "- D , collides with E at (9,9) at step 1\n",
      "- E , collides with D at (9,9) at step 1\n"
     ]
    }
   ],
   "source": [
    "test_MultipleCollided2()"
   ]
  },
  {
   "cell_type": "code",
   "execution_count": 223,
   "id": "37ad027c-ad72-452e-aad9-755634661d32",
   "metadata": {},
   "outputs": [
    {
     "name": "stdout",
     "output_type": "stream",
     "text": [
      "Your current list of cars are:\n",
      "A , (1,2) N, FFRFFFFRRL\n",
      "After Simulation the result is:\n",
      "- A , (5,4) S\n"
     ]
    }
   ],
   "source": [
    "test_Sample1()"
   ]
  },
  {
   "cell_type": "code",
   "execution_count": 224,
   "id": "b2f44dba-8e43-4093-ab09-fdb48765a283",
   "metadata": {},
   "outputs": [
    {
     "name": "stdout",
     "output_type": "stream",
     "text": [
      "Your current list of cars are:\n",
      "A , (1,2) N, FFRFFFFRRL\n",
      "B , (7,8) W, FFLFFFFFFF\n",
      "After Simulation the result is:\n",
      "- A , collides with B at (5,4) at step 7\n",
      "- B , collides with A at (5,4) at step 7\n"
     ]
    }
   ],
   "source": [
    "test_Sample2()"
   ]
  },
  {
   "cell_type": "code",
   "execution_count": 264,
   "id": "f613a83a-5162-4da7-9101-a200861b60c7",
   "metadata": {},
   "outputs": [],
   "source": [
    "#ipytest.run('-vv')"
   ]
  },
  {
   "cell_type": "markdown",
   "id": "06b51ceb-4332-4813-b43d-ac26d290108c",
   "metadata": {},
   "source": [
    "### 6. Main"
   ]
  },
  {
   "cell_type": "code",
   "execution_count": 166,
   "id": "9c9085e2-10a1-4425-9a5d-3cf196930b28",
   "metadata": {},
   "outputs": [
    {
     "name": "stdout",
     "output_type": "stream",
     "text": [
      "Welcome to Auto Driving Car Simulation!\n",
      "Please enter the width and height of the simulation field in x y format:\n"
     ]
    },
    {
     "name": "stdin",
     "output_type": "stream",
     "text": [
      " 10 10\n"
     ]
    },
    {
     "name": "stdout",
     "output_type": "stream",
     "text": [
      "you have created a field of 10 x 10 .\n",
      "Please choose from the following options:\n",
      "[1] Add a car to field\n",
      "[2] Run simulation\n"
     ]
    },
    {
     "name": "stdin",
     "output_type": "stream",
     "text": [
      " 1\n"
     ]
    },
    {
     "name": "stdout",
     "output_type": "stream",
     "text": [
      "Please enter the name of the car:\n"
     ]
    },
    {
     "name": "stdin",
     "output_type": "stream",
     "text": [
      " A\n"
     ]
    },
    {
     "name": "stdout",
     "output_type": "stream",
     "text": [
      "Please enter initial position of car A in x y Direction format:\n"
     ]
    },
    {
     "name": "stdin",
     "output_type": "stream",
     "text": [
      " 1 2 N\n"
     ]
    },
    {
     "name": "stdout",
     "output_type": "stream",
     "text": [
      "Please enter the commands for car A :\n"
     ]
    },
    {
     "name": "stdin",
     "output_type": "stream",
     "text": [
      " FFRFFFFRRL\n"
     ]
    },
    {
     "name": "stdout",
     "output_type": "stream",
     "text": [
      "Your current list of cars are:\n",
      "A , (1,2) N, FFRFFFFRRL\n",
      "Please choose from the following options:\n",
      "[1] Add a car to field\n",
      "[2] Run simulation\n"
     ]
    },
    {
     "name": "stdin",
     "output_type": "stream",
     "text": [
      " 1\n"
     ]
    },
    {
     "name": "stdout",
     "output_type": "stream",
     "text": [
      "Please enter the name of the car:\n"
     ]
    },
    {
     "name": "stdin",
     "output_type": "stream",
     "text": [
      " B\n"
     ]
    },
    {
     "name": "stdout",
     "output_type": "stream",
     "text": [
      "Please enter initial position of car B in x y Direction format:\n"
     ]
    },
    {
     "name": "stdin",
     "output_type": "stream",
     "text": [
      " 7 8 W\n"
     ]
    },
    {
     "name": "stdout",
     "output_type": "stream",
     "text": [
      "Please enter the commands for car B :\n"
     ]
    },
    {
     "name": "stdin",
     "output_type": "stream",
     "text": [
      " FFLFFFFFFF\n"
     ]
    },
    {
     "name": "stdout",
     "output_type": "stream",
     "text": [
      "Your current list of cars are:\n",
      "A , (1,2) N, FFRFFFFRRL\n",
      "B , (7,8) W, FFLFFFFFFF\n",
      "Please choose from the following options:\n",
      "[1] Add a car to field\n",
      "[2] Run simulation\n"
     ]
    },
    {
     "name": "stdin",
     "output_type": "stream",
     "text": [
      " 2\n"
     ]
    },
    {
     "name": "stdout",
     "output_type": "stream",
     "text": [
      "After Simulation the result is:\n",
      "- A , collides with B at (5,4) at step 7\n",
      "- B , collides with A at (5,4) at step 7\n",
      "Please choose from the following options:\n",
      "[1] Start over\n",
      "[2] Exit\n"
     ]
    },
    {
     "name": "stdin",
     "output_type": "stream",
     "text": [
      " 2\n"
     ]
    },
    {
     "name": "stdout",
     "output_type": "stream",
     "text": [
      "Thank you for running the simulation. Goodbye!\n"
     ]
    }
   ],
   "source": [
    "exit = False\n",
    "while exit == False:\n",
    "    restart = False\n",
    "    print(\"Welcome to Auto Driving Car Simulation!\")\n",
    "    sim = Session()\n",
    "    sim.FieldConstruct()\n",
    "    while restart == False:\n",
    "        print(\"Please choose from the following options:\\n[1] Add a car to field\\n[2] Run simulation\")\n",
    "        try:\n",
    "            options1 = int(input())\n",
    "        except ValueError:\n",
    "            print(\"Invalid input type.\")\n",
    "            continue\n",
    "        if options1 == 1:\n",
    "            sim.AddCar()\n",
    "        elif options1 == 2:\n",
    "            sim.RunSimulation()\n",
    "            while True:\n",
    "                print(\"Please choose from the following options:\\n[1] Start over\\n[2] Exit\")\n",
    "                try:\n",
    "                    options2 = int(input())\n",
    "                except ValueError:\n",
    "                    print(\"Invalid input type.\")\n",
    "                    continue\n",
    "                if options2 == 1:\n",
    "                    restart = True\n",
    "                    break\n",
    "                elif options2 == 2:\n",
    "                    restart = True\n",
    "                    exit = True\n",
    "                    break\n",
    "                else:\n",
    "                    print(\"Invalid input.\")\n",
    "        else:\n",
    "            print(\"Invalid input.\")\n",
    "print(\"Thank you for running the simulation. Goodbye!\")"
   ]
  },
  {
   "cell_type": "code",
   "execution_count": null,
   "id": "d73c962c-0d44-4dab-a72f-0f40298d1f5a",
   "metadata": {},
   "outputs": [],
   "source": []
  }
 ],
 "metadata": {
  "kernelspec": {
   "display_name": "Python 3 (ipykernel)",
   "language": "python",
   "name": "python3"
  },
  "language_info": {
   "codemirror_mode": {
    "name": "ipython",
    "version": 3
   },
   "file_extension": ".py",
   "mimetype": "text/x-python",
   "name": "python",
   "nbconvert_exporter": "python",
   "pygments_lexer": "ipython3",
   "version": "3.8.12"
  }
 },
 "nbformat": 4,
 "nbformat_minor": 5
}
